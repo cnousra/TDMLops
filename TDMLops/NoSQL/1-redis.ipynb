{
 "cells": [
  {
   "cell_type": "markdown",
   "metadata": {},
   "source": [
    "# Redis tutorial"
   ]
  },
  {
   "cell_type": "markdown",
   "metadata": {},
   "source": [
    "## Prerequisites"
   ]
  },
  {
   "cell_type": "markdown",
   "metadata": {},
   "source": [
    "### Documentation\n",
    "\n",
    "You will find all documentation for :\n",
    "* [Redis commands](https://redis.io/commands)\n",
    "* [Redis python client](https://redis-py.readthedocs.io/en/latest/)\n",
    "\n",
    "Though the tutorial asks you to use Redis commands, they all have an equivalent in the Python client library."
   ]
  },
  {
   "cell_type": "markdown",
   "metadata": {},
   "source": [
    "### Import libraries"
   ]
  },
  {
   "cell_type": "code",
   "execution_count": 1,
   "metadata": {},
   "outputs": [],
   "source": [
    "import redis"
   ]
  },
  {
   "cell_type": "code",
   "execution_count": 2,
   "metadata": {},
   "outputs": [],
   "source": [
    "r = redis.Redis(host='localhost', port=6379)"
   ]
  },
  {
   "cell_type": "code",
   "execution_count": 3,
   "metadata": {},
   "outputs": [
    {
     "name": "stdout",
     "output_type": "stream",
     "text": [
      "b'bar'\n"
     ]
    }
   ],
   "source": [
    "r.set('foo', 'bar')\n",
    "value = r.get('foo')\n",
    "print(value)"
   ]
  },
  {
   "cell_type": "markdown",
   "metadata": {},
   "source": [
    "You can launch a terminal aside, connect to your server with a Redis client and check that the value is still present :\n",
    "\n",
    "```bash\n",
    "vagrant@nosql:~$ redis-cli\n",
    "127.0.0.1:6379> get foo\n",
    "\"bar\"\n",
    "```"
   ]
  },
  {
   "cell_type": "markdown",
   "metadata": {},
   "source": [
    "## I. Quick start"
   ]
  },
  {
   "cell_type": "markdown",
   "metadata": {},
   "source": [
    "### Strings and numbers"
   ]
  },
  {
   "cell_type": "markdown",
   "metadata": {},
   "source": [
    "**Q** : Store the string `hello world` in key `greetings` with a `SET` command. Then use a `GET` command to retrieve it."
   ]
  },
  {
   "cell_type": "code",
   "execution_count": 4,
   "metadata": {},
   "outputs": [
    {
     "name": "stdout",
     "output_type": "stream",
     "text": [
      "b'hello world'\n"
     ]
    }
   ],
   "source": [
    "r.set('greetings', 'hello world')\n",
    "res = r.get('greetings')\n",
    "print(res)"
   ]
  },
  {
   "cell_type": "markdown",
   "metadata": {},
   "source": [
    "**Q** : Create a `connections` key with value 0. Find the `INCR` command to increment its value, then display it. \n",
    "\n",
    "Try to increment the value for `greetings`."
   ]
  },
  {
   "cell_type": "code",
   "execution_count": 5,
   "metadata": {},
   "outputs": [
    {
     "data": {
      "text/plain": [
       "True"
      ]
     },
     "execution_count": 5,
     "metadata": {},
     "output_type": "execute_result"
    }
   ],
   "source": [
    "r.set('connections', '0')"
   ]
  },
  {
   "cell_type": "code",
   "execution_count": 6,
   "metadata": {},
   "outputs": [
    {
     "name": "stdout",
     "output_type": "stream",
     "text": [
      "2\n"
     ]
    }
   ],
   "source": [
    "new_value=r.incr('connections', 2)\n",
    "print(new_value)"
   ]
  },
  {
   "cell_type": "markdown",
   "metadata": {},
   "source": [
    "### Lists"
   ]
  },
  {
   "cell_type": "markdown",
   "metadata": {},
   "source": [
    "**Q** : Create a `colors` list with strings `red`, `black` and `blue`, using the `RPUSH` command."
   ]
  },
  {
   "cell_type": "code",
   "execution_count": 7,
   "metadata": {},
   "outputs": [
    {
     "data": {
      "text/plain": [
       "3"
      ]
     },
     "execution_count": 7,
     "metadata": {},
     "output_type": "execute_result"
    }
   ],
   "source": [
    "colors = ['red','black','blue']\n",
    "r.rpush('Maliste',*colors)"
   ]
  },
  {
   "cell_type": "markdown",
   "metadata": {},
   "source": [
    "**Q** : Display the second element of the list with `LINDEX`"
   ]
  },
  {
   "cell_type": "code",
   "execution_count": 8,
   "metadata": {},
   "outputs": [
    {
     "name": "stdout",
     "output_type": "stream",
     "text": [
      "b'black'\n"
     ]
    }
   ],
   "source": [
    "value2=r.lindex('Maliste',1)\n",
    "print(value2)"
   ]
  },
  {
   "cell_type": "markdown",
   "metadata": {},
   "source": [
    "**Q** : Display the full list with `LRANGE`"
   ]
  },
  {
   "cell_type": "code",
   "execution_count": 9,
   "metadata": {},
   "outputs": [
    {
     "name": "stdout",
     "output_type": "stream",
     "text": [
      "[b'red', b'black', b'blue']\n"
     ]
    }
   ],
   "source": [
    "values = r.lrange('Maliste',0,2)\n",
    "print(values)"
   ]
  },
  {
   "cell_type": "markdown",
   "metadata": {},
   "source": [
    "### Using sets"
   ]
  },
  {
   "cell_type": "markdown",
   "metadata": {},
   "source": [
    "**Q** : Create a `nosql` set containing values `redis`, `mongodb` and `orientdb`, using the `SADD` command."
   ]
  },
  {
   "cell_type": "code",
   "execution_count": 10,
   "metadata": {},
   "outputs": [
    {
     "data": {
      "text/plain": [
       "3"
      ]
     },
     "execution_count": 10,
     "metadata": {},
     "output_type": "execute_result"
    }
   ],
   "source": [
    "r.sadd('nosql', *{'redis','mongodb','orientdb'})"
   ]
  },
  {
   "cell_type": "markdown",
   "metadata": {},
   "source": [
    "**Q** : Test if `mysql` is inside the set, using `SISMEMBER`"
   ]
  },
  {
   "cell_type": "code",
   "execution_count": 11,
   "metadata": {},
   "outputs": [
    {
     "data": {
      "text/plain": [
       "0"
      ]
     },
     "execution_count": 11,
     "metadata": {},
     "output_type": "execute_result"
    }
   ],
   "source": [
    "r.sismember('nosql','mysql')"
   ]
  },
  {
   "cell_type": "markdown",
   "metadata": {},
   "source": [
    "**Q** : Add `hbase` to the set with `SADD`, then display all elements of the set with `SMEMBERS`. Try to add `redis` again and see what happens."
   ]
  },
  {
   "cell_type": "code",
   "execution_count": 12,
   "metadata": {},
   "outputs": [
    {
     "name": "stdout",
     "output_type": "stream",
     "text": [
      "{b'orientdb', b'mongodb', b'redis', b'hbase'}\n"
     ]
    }
   ],
   "source": [
    "r.sadd('nosql','hbase')\n",
    "elements=r.smembers('nosql')\n",
    "print(elements)"
   ]
  },
  {
   "cell_type": "markdown",
   "metadata": {},
   "source": [
    "### Using sorted sets\n",
    "\n",
    "Sorted Sets are similar to Redis Sets with the unique feature of values stored in a set. The difference is, every member of a Sorted Set is associated with a score, that is used in order to take the sorted set ordered, from the smallest to the greatest score."
   ]
  },
  {
   "cell_type": "markdown",
   "metadata": {},
   "source": [
    "**Q** : Using `ZADD`, create a sorted set `top14` with the following entries :\n",
    "\n",
    "```\n",
    "score city\n",
    "10 Agen \n",
    "33 Bordeaux \n",
    "32 Brive \n",
    "29 Castres \n",
    "38 Clermont \n",
    "24 Grenoble \n",
    "26 La Rochelle \n",
    "32 Montpellier \n",
    "14 Oyonnax \n",
    "20 Pau \n",
    "40 Racing \n",
    "22 Stade Français \n",
    "36 Toulon \n",
    "36 Toulouse\n",
    "```"
   ]
  },
  {
   "cell_type": "code",
   "execution_count": 13,
   "metadata": {},
   "outputs": [],
   "source": [
    "city_scores = {\n",
    "    'Agen': 10, 'Bordeaux': 33, 'Brive': 32, 'Castres': 29,\n",
    "    'Clermont': 38, 'Grenoble': 24, 'La Rochelle': 26,\n",
    "    'Montpellier': 32, 'Oyonnax': 14, 'Pau': 20,\n",
    "    'Racing': 40, 'Stade Français': 22, 'Toulon': 36, 'Toulouse': 36\n",
    "}"
   ]
  },
  {
   "cell_type": "code",
   "execution_count": 14,
   "metadata": {},
   "outputs": [
    {
     "data": {
      "text/plain": [
       "[(b'Agen', 10.0),\n",
       " (b'Oyonnax', 14.0),\n",
       " (b'Pau', 20.0),\n",
       " (b'Stade Fran\\xc3\\xa7ais', 22.0),\n",
       " (b'Grenoble', 24.0),\n",
       " (b'La Rochelle', 26.0),\n",
       " (b'Castres', 29.0),\n",
       " (b'Brive', 32.0),\n",
       " (b'Montpellier', 32.0),\n",
       " (b'Bordeaux', 33.0),\n",
       " (b'Toulon', 36.0),\n",
       " (b'Toulouse', 36.0),\n",
       " (b'Clermont', 38.0),\n",
       " (b'Racing', 40.0)]"
      ]
     },
     "execution_count": 14,
     "metadata": {},
     "output_type": "execute_result"
    }
   ],
   "source": [
    "r.zadd('city_scores',city_scores)\n",
    "r.zrange('city_scores', 0, -1, withscores=True)"
   ]
  },
  {
   "cell_type": "markdown",
   "metadata": {},
   "source": [
    "**Q** : Fetch the score for `Toulon` with `ZSCORE`, and its ranking with `ZRANK`."
   ]
  },
  {
   "cell_type": "code",
   "execution_count": 15,
   "metadata": {},
   "outputs": [
    {
     "name": "stdout",
     "output_type": "stream",
     "text": [
      "36.0\n"
     ]
    }
   ],
   "source": [
    "Toulon_score = r.zscore('city_scores','Toulon')\n",
    "print(Toulon_score)"
   ]
  },
  {
   "cell_type": "markdown",
   "metadata": {},
   "source": [
    "**Q** : `ZRANK` starts at 0 and scores are sorted from lowest to highest, so we should use the `ZREVRANK` for a true ranking of our cities."
   ]
  },
  {
   "cell_type": "code",
   "execution_count": 16,
   "metadata": {},
   "outputs": [
    {
     "data": {
      "text/plain": [
       "3"
      ]
     },
     "execution_count": 16,
     "metadata": {},
     "output_type": "execute_result"
    }
   ],
   "source": [
    "r.zrevrank('city_scores','Toulon')"
   ]
  },
  {
   "cell_type": "markdown",
   "metadata": {},
   "source": [
    "**Q** : Find the commands to display :\n",
    "* the 3 best teams\n",
    "* teams with more than 35 points"
   ]
  },
  {
   "cell_type": "code",
   "execution_count": 17,
   "metadata": {},
   "outputs": [
    {
     "data": {
      "text/plain": [
       "[(b'Racing', 40.0), (b'Clermont', 38.0), (b'Toulouse', 36.0)]"
      ]
     },
     "execution_count": 17,
     "metadata": {},
     "output_type": "execute_result"
    }
   ],
   "source": [
    "r.zrevrange('city_scores', 0, 2, withscores=True)"
   ]
  },
  {
   "cell_type": "code",
   "execution_count": 18,
   "metadata": {},
   "outputs": [
    {
     "data": {
      "text/plain": [
       "[(b'Toulon', 36.0),\n",
       " (b'Toulouse', 36.0),\n",
       " (b'Clermont', 38.0),\n",
       " (b'Racing', 40.0)]"
      ]
     },
     "execution_count": 18,
     "metadata": {},
     "output_type": "execute_result"
    }
   ],
   "source": [
    "min_score=35\n",
    "r.zrangebyscore('city_scores',min_score+1, float('inf') , withscores=True)"
   ]
  },
  {
   "cell_type": "markdown",
   "metadata": {},
   "source": [
    "### Using dictionaries"
   ]
  },
  {
   "cell_type": "markdown",
   "metadata": {},
   "source": [
    "**Q** : Create a dictionary `user:1` with `HMSET` with properties `id (1), name (Jean), age (22)`. Display it with `HGETALL`"
   ]
  },
  {
   "cell_type": "code",
   "execution_count": 19,
   "metadata": {},
   "outputs": [
    {
     "data": {
      "text/plain": [
       "{b'id': b'1', b'name': b'Jean', b'age': b'22'}"
      ]
     },
     "execution_count": 19,
     "metadata": {},
     "output_type": "execute_result"
    }
   ],
   "source": [
    "r.hset(\"user:1\",\"id\",\"1\")\n",
    "r.hset(\"user:1\",\"name\",\"Jean\")\n",
    "r.hset(\"user:1\",\"age\",\"22\")\n",
    "r.hgetall(\"user:1\")"
   ]
  },
  {
   "cell_type": "markdown",
   "metadata": {},
   "source": [
    "**Q** : Add a `city (Lyon)` property and rename the user from `Jean` to `Paul`."
   ]
  },
  {
   "cell_type": "code",
   "execution_count": 20,
   "metadata": {},
   "outputs": [
    {
     "data": {
      "text/plain": [
       "{b'id': b'1', b'name': b'Paul', b'age': b'22', b'city': b'Lyon'}"
      ]
     },
     "execution_count": 20,
     "metadata": {},
     "output_type": "execute_result"
    }
   ],
   "source": [
    "r.hset(\"user:1\",\"city\",\"Lyon\")\n",
    "r.hset(\"user:1\",\"name\",\"Paul\")\n",
    "r.hgetall(\"user:1\")"
   ]
  },
  {
   "cell_type": "markdown",
   "metadata": {},
   "source": [
    "## Modelling a query cache with Redis\n",
    "\n",
    "You are modeling data from a REST query cache system with Redis.\n",
    "A request is identified by the http method and its url (without the protocol).\n",
    "The content of the request is stored as it is to be returned on demand."
   ]
  },
  {
   "cell_type": "markdown",
   "metadata": {},
   "source": [
    "**Q** : Insert a PUT request in the cache on http://my-api.fr/user/10 whose answer is {\"id\": 10, \"name\": \"jean\"}"
   ]
  },
  {
   "cell_type": "code",
   "execution_count": 21,
   "metadata": {},
   "outputs": [
    {
     "name": "stdout",
     "output_type": "stream",
     "text": [
      "PUT request cached successfully for key: put:http://my-api.fr/user/10\n"
     ]
    },
    {
     "data": {
      "text/plain": [
       "b'{\"id\": 10, \"name\": \"jean\"}'"
      ]
     },
     "execution_count": 21,
     "metadata": {},
     "output_type": "execute_result"
    }
   ],
   "source": [
    "import json\n",
    "http_method=\"put\"\n",
    "url1 = \"http://my-api.fr/user/10\"\n",
    "answer= {\"id\": 10, \"name\": \"jean\"}\n",
    "cache_key_put = f\"{http_method}:{url1}\"\n",
    "answer_json = json.dumps(answer)\n",
    "r.set(cache_key_put,answer_json)\n",
    "print(f\"PUT request cached successfully for key: {cache_key_put}\")\n",
    "r.get(cache_key_put)"
   ]
  },
  {
   "cell_type": "markdown",
   "metadata": {},
   "source": [
    "**Q** : Insert a GET request in the cache on http://my-api.fr/user?size=2 whose answer is[{\"id\": 10, \"name\": jean}, {\"id\": 11, \"name\": \"Claire\"}]"
   ]
  },
  {
   "cell_type": "code",
   "execution_count": 22,
   "metadata": {},
   "outputs": [
    {
     "name": "stdout",
     "output_type": "stream",
     "text": [
      "GET request cached successfully for key: get:http://my-api.fr/user?size=2\n"
     ]
    },
    {
     "data": {
      "text/plain": [
       "b'[{\"id\": 10, \"name\": \"jean\"}, {\"id\": 11, \"name\": \"Claire\"}]'"
      ]
     },
     "execution_count": 22,
     "metadata": {},
     "output_type": "execute_result"
    }
   ],
   "source": [
    "http_method=\"get\"\n",
    "url2 = \"http://my-api.fr/user?size=2\"\n",
    "answer2= [{\"id\": 10, \"name\": \"jean\"}, {\"id\": 11, \"name\": \"Claire\"}]\n",
    "cache_key_get = f\"{http_method}:{url2}\"\n",
    "answer_json = json.dumps(answer2)\n",
    "r.set(cache_key_get,answer_json)\n",
    "print(f\"GET request cached successfully for key: {cache_key_get}\")\n",
    "r.get(cache_key_get)"
   ]
  },
  {
   "cell_type": "markdown",
   "metadata": {},
   "source": [
    "**Q** : Create a set of cache request keys."
   ]
  },
  {
   "cell_type": "code",
   "execution_count": 23,
   "metadata": {},
   "outputs": [
    {
     "data": {
      "text/plain": [
       "2"
      ]
     },
     "execution_count": 23,
     "metadata": {},
     "output_type": "execute_result"
    }
   ],
   "source": [
    "urls=[cache_key_put,cache_key_get]\n",
    "r.sadd(\"request keys\",*urls)"
   ]
  },
  {
   "cell_type": "markdown",
   "metadata": {},
   "source": [
    "**Q** : Check if the GET request on http: //http://my-api.fr/user"
   ]
  },
  {
   "cell_type": "code",
   "execution_count": 24,
   "metadata": {},
   "outputs": [
    {
     "name": "stdout",
     "output_type": "stream",
     "text": [
      "0\n"
     ]
    }
   ],
   "source": [
    "get=r.sismember(\"request keys\",\"get:http://my-api.fr/user\")\n",
    "print(get)"
   ]
  },
  {
   "cell_type": "markdown",
   "metadata": {},
   "source": [
    "**Q** : Delete the PUT request on http://my-api.fr/user/10 from the cache."
   ]
  },
  {
   "cell_type": "code",
   "execution_count": 25,
   "metadata": {},
   "outputs": [
    {
     "name": "stdout",
     "output_type": "stream",
     "text": [
      "1\n"
     ]
    }
   ],
   "source": [
    "put=r.sismember(\"request keys\",\"put:http://my-api.fr/user/10\")\n",
    "print(put)"
   ]
  },
  {
   "cell_type": "markdown",
   "metadata": {},
   "source": [
    "## Postquisites\n",
    "\n",
    "The folloinwg command removes all data from your Redis cluster."
   ]
  },
  {
   "cell_type": "code",
   "execution_count": 26,
   "metadata": {
    "tags": []
   },
   "outputs": [
    {
     "name": "stderr",
     "output_type": "stream",
     "text": [
      "'redis-cli' n'est pas reconnu en tant que commande interne\n",
      "ou externe, un programme ex‚cutable ou un fichier de commandes.\n"
     ]
    }
   ],
   "source": [
    "!redis-cli flushall"
   ]
  }
 ],
 "metadata": {
  "kernelspec": {
   "display_name": "Python 3 (ipykernel)",
   "language": "python",
   "name": "python3"
  },
  "language_info": {
   "codemirror_mode": {
    "name": "ipython",
    "version": 3
   },
   "file_extension": ".py",
   "mimetype": "text/x-python",
   "name": "python",
   "nbconvert_exporter": "python",
   "pygments_lexer": "ipython3",
   "version": "3.7.12"
  }
 },
 "nbformat": 4,
 "nbformat_minor": 4
}
