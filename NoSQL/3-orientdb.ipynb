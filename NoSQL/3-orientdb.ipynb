{
 "cells": [
  {
   "cell_type": "markdown",
   "metadata": {},
   "source": [
    "# OrientDB tutorial"
   ]
  },
  {
   "cell_type": "markdown",
   "metadata": {},
   "source": [
    "## Prerequisites"
   ]
  },
  {
   "cell_type": "markdown",
   "metadata": {},
   "source": [
    "### Documentation\n",
    "\n",
    "You will find all documentation for :\n",
    "* [OrientDB SQL reference](http://www.orientdb.com/docs/last/SQL-Functions.html)\n",
    "* [Orientdb python client](http://orientdb.com/docs/last/PyOrient-Client.html#working-with-the-client)"
   ]
  },
  {
   "cell_type": "markdown",
   "metadata": {},
   "source": [
    "## Import libraries"
   ]
  },
  {
   "cell_type": "code",
   "execution_count": 1,
   "metadata": {},
   "outputs": [],
   "source": [
    "import pyorient"
   ]
  },
  {
   "cell_type": "code",
   "execution_count": 2,
   "metadata": {},
   "outputs": [],
   "source": [
    "ROOT_PASSWORD = \"root\"\n",
    "client = pyorient.OrientDB(\"localhost\", 2424)\n",
    "session_id = client.connect(\"root\", ROOT_PASSWORD)"
   ]
  },
  {
   "cell_type": "code",
   "execution_count": 3,
   "metadata": {},
   "outputs": [
    {
     "name": "stdout",
     "output_type": "stream",
     "text": [
      "{{'databases': {}}}\n"
     ]
    }
   ],
   "source": [
    "print(client.db_list())"
   ]
  },
  {
   "cell_type": "markdown",
   "metadata": {},
   "source": [
    "## I. Quick start"
   ]
  },
  {
   "cell_type": "markdown",
   "metadata": {},
   "source": [
    "### Creating the database"
   ]
  },
  {
   "cell_type": "markdown",
   "metadata": {},
   "source": [
    "**Q:** Create a database `gods` as a `GRAPH_DATABASE` in `MEMORY_STORAGE_TYPE`. \n",
    "\n",
    "We will use it to store relationships between Greek deities."
   ]
  },
  {
   "cell_type": "code",
   "execution_count": 4,
   "metadata": {},
   "outputs": [],
   "source": [
    "client.db_create(\"gods\",pyorient.DB_TYPE_GRAPH,pyorient.STORAGE_TYPE_PLOCAL)"
   ]
  },
  {
   "cell_type": "markdown",
   "metadata": {},
   "source": [
    "**Q:** Connect your pyorient client to the `gods` database."
   ]
  },
  {
   "cell_type": "code",
   "execution_count": 5,
   "metadata": {},
   "outputs": [
    {
     "data": {
      "text/plain": [
       "[<pyorient.otypes.OrientCluster at 0x207695049c8>,\n",
       " <pyorient.otypes.OrientCluster at 0x20769504488>,\n",
       " <pyorient.otypes.OrientCluster at 0x20769432288>,\n",
       " <pyorient.otypes.OrientCluster at 0x2076950d448>,\n",
       " <pyorient.otypes.OrientCluster at 0x2076950d408>,\n",
       " <pyorient.otypes.OrientCluster at 0x2076950d508>,\n",
       " <pyorient.otypes.OrientCluster at 0x2076950d548>,\n",
       " <pyorient.otypes.OrientCluster at 0x2076950d588>,\n",
       " <pyorient.otypes.OrientCluster at 0x2076950d5c8>,\n",
       " <pyorient.otypes.OrientCluster at 0x2076950d4c8>,\n",
       " <pyorient.otypes.OrientCluster at 0x2076950d608>,\n",
       " <pyorient.otypes.OrientCluster at 0x2076950d648>,\n",
       " <pyorient.otypes.OrientCluster at 0x2076950d688>,\n",
       " <pyorient.otypes.OrientCluster at 0x2076950d6c8>,\n",
       " <pyorient.otypes.OrientCluster at 0x2076950d708>,\n",
       " <pyorient.otypes.OrientCluster at 0x20769504048>,\n",
       " <pyorient.otypes.OrientCluster at 0x2076950d788>,\n",
       " <pyorient.otypes.OrientCluster at 0x2076950d7c8>,\n",
       " <pyorient.otypes.OrientCluster at 0x2076950d808>,\n",
       " <pyorient.otypes.OrientCluster at 0x2076950d848>,\n",
       " <pyorient.otypes.OrientCluster at 0x2076950d888>,\n",
       " <pyorient.otypes.OrientCluster at 0x2076950d8c8>,\n",
       " <pyorient.otypes.OrientCluster at 0x2076950d908>,\n",
       " <pyorient.otypes.OrientCluster at 0x2076950d948>,\n",
       " <pyorient.otypes.OrientCluster at 0x2076950d988>]"
      ]
     },
     "execution_count": 5,
     "metadata": {},
     "output_type": "execute_result"
    }
   ],
   "source": [
    "client.db_open(\"gods\", \"root\", ROOT_PASSWORD)"
   ]
  },
  {
   "cell_type": "markdown",
   "metadata": {},
   "source": [
    "**Q:** You should now be able to launch OrientDB queries through the Python client with the [command()](http://orientdb.com/docs/last/PyOrient-Client-Command.html) function. \n",
    "\n",
    "You should think of OrientDB as a Graph-Document database for the following questions. Each vertex and edge will contain information on it inside a JSON document.\n",
    "\n",
    "Create a new Vertex with content `{name: 'Zeus', symbol: 'thunder'}`. The [CREATE VERTEX : Create a vertex using JSON content](http://orientdb.com/docs/last/SQL-Create-Vertex.html) doc page should help you."
   ]
  },
  {
   "cell_type": "code",
   "execution_count": 6,
   "metadata": {},
   "outputs": [],
   "source": [
    "import json\n",
    "vertex = {'name': 'Zeus', 'symbol': 'thunder'}\n",
    "json_string = json.dumps(vertex)"
   ]
  },
  {
   "cell_type": "code",
   "execution_count": 7,
   "metadata": {},
   "outputs": [
    {
     "data": {
      "text/plain": [
       "[<pyorient.otypes.OrientRecord at 0x20765069fc8>]"
      ]
     },
     "execution_count": 7,
     "metadata": {},
     "output_type": "execute_result"
    }
   ],
   "source": [
    "client.command(f\"INSERT INTO V CONTENT {json_string}\")"
   ]
  },
  {
   "cell_type": "markdown",
   "metadata": {},
   "source": [
    "You have created a VERTEX in the previous question. The VERTEX is a [class](https://orientdb.com/docs/last/Tutorial-Classes.html) of OrientDB which defines a record that can be linked to others through EDGE instances.\n",
    "\n",
    "You can find all VERTEX created in the database with a SQL command on the `V` table, like `SELECT * FROM V`. \n",
    "\n",
    "**Q:** Print all current vertices in `gods`, it should only have `Zeus` though for now."
   ]
  },
  {
   "cell_type": "code",
   "execution_count": 8,
   "metadata": {},
   "outputs": [
    {
     "name": "stdout",
     "output_type": "stream",
     "text": [
      "{'@V':{'name': 'Zeus', 'symbol': 'thunder'},'version':1,'rid':'#9:0'}\n"
     ]
    }
   ],
   "source": [
    "data = client.query(\"SELECT * FROM V\")\n",
    "for u in data:\n",
    "    print(u)"
   ]
  },
  {
   "cell_type": "markdown",
   "metadata": {},
   "source": [
    "**Q:** Create new vertices with content : \n",
    "```\n",
    "{name:Héra, symbol:tiara}\n",
    "{name:Poséidon, symbol:trident}\n",
    "{name:Athena, symbol:helmet}\n",
    "{name:Arès, symbol:weapons} \n",
    "```"
   ]
  },
  {
   "cell_type": "code",
   "execution_count": 9,
   "metadata": {},
   "outputs": [],
   "source": [
    "vertex2 = {\"name\":\"Héra\", \"symbol\":\"tiara\"}\n",
    "vertex3 = {\"name\":\"Poséidon\", \"symbol\":\"trident\"}\n",
    "vertex4 = {\"name\":\"Athena\", \"symbol\":\"helmet\"}\n",
    "vertex5 = {\"name\":\"Arès\", \"symbol\":\"weapons\"}"
   ]
  },
  {
   "cell_type": "markdown",
   "metadata": {},
   "source": [
    "**Q:** Display all vertices with name = `Arès`"
   ]
  },
  {
   "cell_type": "code",
   "execution_count": 10,
   "metadata": {},
   "outputs": [
    {
     "data": {
      "text/plain": [
       "[<pyorient.otypes.OrientRecord at 0x2076953b648>]"
      ]
     },
     "execution_count": 10,
     "metadata": {},
     "output_type": "execute_result"
    }
   ],
   "source": [
    "client.command(f\"INSERT INTO V CONTENT {json.dumps(vertex2)}\")\n",
    "client.command(f\"INSERT INTO V CONTENT {json.dumps(vertex3)}\")\n",
    "client.command(f\"INSERT INTO V CONTENT {json.dumps(vertex4)}\")\n",
    "client.command(f\"INSERT INTO V CONTENT {json.dumps(vertex5)}\")"
   ]
  },
  {
   "cell_type": "markdown",
   "metadata": {},
   "source": [
    "**Q:** Create an EDGE from `Zeus` to `Poséidon` with the content `{kind: 'sibling'}"
   ]
  },
  {
   "cell_type": "code",
   "execution_count": 11,
   "metadata": {},
   "outputs": [],
   "source": [
    "edges = client.command(\"\"\"\n",
    "create edge\n",
    "from (select from V where name = 'Zeus')\n",
    "to (select from V where name = 'Poséidon')\n",
    "\"\"\")"
   ]
  },
  {
   "cell_type": "markdown",
   "metadata": {},
   "source": [
    "**Q:** Redisplay all vertices, discuss."
   ]
  },
  {
   "cell_type": "code",
   "execution_count": 12,
   "metadata": {},
   "outputs": [
    {
     "name": "stdout",
     "output_type": "stream",
     "text": [
      "{'@V':{'name': 'Zeus', 'symbol': 'thunder', 'out_': <pyorient.otypes.OrientBinaryObject object at 0x0000020769543148>},'version':2,'rid':'#9:0'}\n",
      "{'@V':{'name': 'Héra', 'symbol': 'tiara'},'version':1,'rid':'#10:0'}\n",
      "{'@V':{'name': 'Poséidon', 'symbol': 'trident', 'in_': <pyorient.otypes.OrientBinaryObject object at 0x0000020769543448>},'version':2,'rid':'#11:0'}\n",
      "{'@V':{'name': 'Athena', 'symbol': 'helmet'},'version':1,'rid':'#12:0'}\n",
      "{'@V':{'name': 'Arès', 'symbol': 'weapons'},'version':1,'rid':'#13:0'}\n"
     ]
    }
   ],
   "source": [
    "for val in client.command(\"SELECT * FROM V\"):\n",
    "    print(val)"
   ]
  },
  {
   "cell_type": "markdown",
   "metadata": {},
   "source": [
    "**Q:** Display all edges. They are contained in the class `E`"
   ]
  },
  {
   "cell_type": "code",
   "execution_count": 13,
   "metadata": {},
   "outputs": [
    {
     "name": "stdout",
     "output_type": "stream",
     "text": [
      "{'@E':{'out': <pyorient.otypes.OrientRecordLink object at 0x0000020769543948>, 'in': <pyorient.otypes.OrientRecordLink object at 0x0000020769543B08>},'version':1,'rid':'#17:0'}\n"
     ]
    }
   ],
   "source": [
    "for val in client.command(\"SELECT * FROM E\"):\n",
    "    print(val)"
   ]
  },
  {
   "cell_type": "markdown",
   "metadata": {},
   "source": [
    "Two fields on vertices have appeared, containing the outgoing (out_) and incoming (in_) links.\n",
    "\n",
    "At the edge level, two fields point to the original (out) and destination (in) vertices.\n",
    "\n",
    "**Q:** Lets create some more edges :\n",
    "\n",
    "* Zeus > Héra (sibling)\n",
    "* Zeus > Arès (father)\n",
    "* Zeus > Athena (father)\n",
    "* Héra > Arès (mother)\n",
    "* Héra > Zeus (sibling)\n",
    "* Poséidon > Zeus (sibling)\n",
    "\n",
    "_Hint 1 :_ check [the CREATE EDGE doc page](http://orientdb.com/docs/last/SQL-Create-Edge.html) to find an example for creating edges on vertices using subqueries so you can run queries to fetch the vertices before creating an edge in between.\n",
    "\n",
    "_Hint 2 :_ after you have found the command to create edges between vertices with sub-queries, you should be well-versed enough in Python to create a list of all edges in the question, and loop the command on each element of the list to create all edges in one go =)"
   ]
  },
  {
   "cell_type": "code",
   "execution_count": 14,
   "metadata": {},
   "outputs": [],
   "source": [
    "# Fetch vertices using subqueries (assuming 'God' class exists)\n",
    "zeus_vertex = client.query(\"SELECT FROM V WHERE name = 'Zeus'\")[0]\n",
    "poseidon_vertex = client.query(\"SELECT FROM V WHERE name = 'Poséidon'\")[0]\n",
    "Arès_vertex = client.query(\"SELECT FROM V WHERE name = 'Arès'\")[0]\n",
    "Athena_vertex = client.query(\"SELECT FROM V WHERE name = 'Athena'\")[0]\n",
    "Héra_vertex = client.query(\"SELECT FROM V WHERE name = 'Héra'\")[0]\n",
    "\n",
    "# Define the edges to be created\n",
    "edges_to_create = [\n",
    "    {\"from\": zeus_vertex._rid, \"to\": poseidon_vertex._rid, \"content\": {\"kind\": \"sibling\"}},   \n",
    "    {\"from\": zeus_vertex._rid, \"to\": Arès_vertex._rid, \"content\": {\"kind\": \"father\"}},\n",
    "    {\"from\": zeus_vertex._rid, \"to\": Athena_vertex._rid, \"content\": {\"kind\": \"father\"}},\n",
    "    {\"from\": Héra_vertex._rid, \"to\": Arès_vertex._rid, \"content\": {\"kind\": \"mother\"}},\n",
    "    {\"from\": Héra_vertex._rid, \"to\": zeus_vertex._rid, \"content\": {\"kind\": \"sibling\"}},\n",
    "    {\"from\": poseidon_vertex._rid, \"to\": zeus_vertex._rid, \"content\": {\"kind\": \"sibling\"}},\n",
    "]\n",
    "\n",
    "# Create edges in a loop\n",
    "for edge_data in edges_to_create:\n",
    "    client.command(f\"CREATE EDGE FROM {edge_data['from']} TO {edge_data['to']} CONTENT {edge_data['content']}\")"
   ]
  },
  {
   "cell_type": "markdown",
   "metadata": {},
   "source": [
    "### Looking for data"
   ]
  },
  {
   "cell_type": "markdown",
   "metadata": {},
   "source": [
    "**Q:** Using [out()](http://orientdb.com/docs/last/Tutorial-Working-with-graphs.html#querying-graphs) function, display all vertices connected and outgoing from Zeus.\n",
    "\n",
    "You should use the EXPAND() special function to transform the vertex collection in the result-set by expanding it, making the results more readable."
   ]
  },
  {
   "cell_type": "code",
   "execution_count": 15,
   "metadata": {},
   "outputs": [
    {
     "name": "stdout",
     "output_type": "stream",
     "text": [
      "{'@V':{'in_': <pyorient.otypes.OrientBinaryObject object at 0x000002076954DDC8>, 'name': 'Poséidon', 'symbol': 'trident', 'out_': <pyorient.otypes.OrientBinaryObject object at 0x0000020769554888>},'version':4,'rid':'#11:0'}\n",
      "{'@V':{'in_': <pyorient.otypes.OrientBinaryObject object at 0x0000020769554908>, 'name': 'Poséidon', 'symbol': 'trident', 'out_': <pyorient.otypes.OrientBinaryObject object at 0x0000020769554A88>},'version':4,'rid':'#11:0'}\n",
      "{'@V':{'in_': <pyorient.otypes.OrientBinaryObject object at 0x0000020769554988>, 'name': 'Arès', 'symbol': 'weapons'},'version':3,'rid':'#13:0'}\n",
      "{'@V':{'name': 'Athena', 'symbol': 'helmet', 'in_': <pyorient.otypes.OrientBinaryObject object at 0x0000020769554E88>},'version':2,'rid':'#12:0'}\n"
     ]
    }
   ],
   "source": [
    "for data in client.command(\"SELECT EXPAND(out()) FROM V where name ='Zeus'\"):\n",
    "    print(data)"
   ]
  },
  {
   "cell_type": "markdown",
   "metadata": {},
   "source": [
    "**Q:** Display all vertices which got a father (the vertices which are the destination of an arc whose kind attribute is father).\n",
    "\n",
    "_Hint: You can notice that we use the field `in` the arc, and not the function `in()` which applies to vertices._"
   ]
  },
  {
   "cell_type": "code",
   "execution_count": 16,
   "metadata": {},
   "outputs": [
    {
     "name": "stdout",
     "output_type": "stream",
     "text": [
      "{'@V':{'out_': <pyorient.otypes.OrientBinaryObject object at 0x0000020769554188>, 'name': 'Héra', 'symbol': 'tiara'},'version':3,'rid':'#10:0'}\n",
      "{'@V':{'in_': <pyorient.otypes.OrientBinaryObject object at 0x0000020769554248>, 'name': 'Poséidon', 'symbol': 'trident', 'out_': <pyorient.otypes.OrientBinaryObject object at 0x0000020769554588>},'version':4,'rid':'#11:0'}\n"
     ]
    }
   ],
   "source": [
    "for data in client.command(\"SELECT EXPAND(in()) FROM V where name = 'Zeus'\"):\n",
    "    print(data)"
   ]
  },
  {
   "cell_type": "markdown",
   "metadata": {},
   "source": [
    "**Q:** As in SQL, the operator `in` used in a clause `where` allows to restrict the possible values with an embedded query _(where ... in (select ...))_. \n",
    "\n",
    "Display the mothers, by displaying the vertices where an outgoing arc is part of the arcs where kind is a mother."
   ]
  },
  {
   "cell_type": "code",
   "execution_count": 17,
   "metadata": {},
   "outputs": [
    {
     "name": "stdout",
     "output_type": "stream",
     "text": [
      "{'@V':{'out_': <pyorient.otypes.OrientBinaryObject object at 0x0000020769554508>, 'name': 'Héra', 'symbol': 'tiara'},'version':3,'rid':'#10:0'}\n"
     ]
    }
   ],
   "source": [
    "for data in client.command(\"SELECT FROM V where out_ in (select FROM E where kind='mother')\"):\n",
    "    print(data)"
   ]
  },
  {
   "cell_type": "markdown",
   "metadata": {},
   "source": [
    "**Q:** Display the brothers and sisters of Zeus (the destination summits of an arc whose kind is sibling and whose original summit is Zeus)."
   ]
  },
  {
   "cell_type": "code",
   "execution_count": 18,
   "metadata": {},
   "outputs": [
    {
     "name": "stdout",
     "output_type": "stream",
     "text": [
      "Héra\n",
      "Poséidon\n"
     ]
    }
   ],
   "source": [
    "for data in client.command(\"SELECT expand(in()) FROM V where name='Zeus' and out_ in (select FROM E where kind = 'sibling')\"):\n",
    "    print(data.name)"
   ]
  },
  {
   "cell_type": "markdown",
   "metadata": {},
   "source": [
    "## Modeling a Product Recommendation System"
   ]
  },
  {
   "cell_type": "markdown",
   "metadata": {},
   "source": [
    "You are currently modeling the data of a product recommendation system with OrientDB.\n",
    "\n",
    "The main purpose of such a system is to answer the question \"which products were purchased by their people who purchased product X? »\n",
    "\n",
    "Purchased products have only one name field. They are purchased by people who have a nickname.\n",
    "\n",
    "When a person buys a product, the date of purchase is stored. \n",
    "\n",
    "Instead of working with \"anonymous\" vertices and arcs, you will use classes. The `create class` command allows you to create custom classes.\n",
    "\n",
    "The vertex classes must extend V, the arc classes must extend E."
   ]
  },
  {
   "cell_type": "markdown",
   "metadata": {},
   "source": [
    "**Q:** Create an `eCommerce` database, and the necessary classes to model the system.\n",
    "\n",
    "PS : you can view all classes in the database with :\n",
    "\n",
    "```python\n",
    "for name in client.command(\"SELECT name FROM (SELECT expand(classes) FROM metadata:schema)\"):\n",
    "    print(name)\n",
    "```"
   ]
  },
  {
   "cell_type": "code",
   "execution_count": 19,
   "metadata": {},
   "outputs": [
    {
     "data": {
      "text/plain": [
       "[<pyorient.otypes.OrientCluster at 0x20769504848>,\n",
       " <pyorient.otypes.OrientCluster at 0x2076953b4c8>,\n",
       " <pyorient.otypes.OrientCluster at 0x20769504148>,\n",
       " <pyorient.otypes.OrientCluster at 0x207695047c8>,\n",
       " <pyorient.otypes.OrientCluster at 0x20769504208>,\n",
       " <pyorient.otypes.OrientCluster at 0x20769504a48>,\n",
       " <pyorient.otypes.OrientCluster at 0x20769504a08>,\n",
       " <pyorient.otypes.OrientCluster at 0x20769504748>,\n",
       " <pyorient.otypes.OrientCluster at 0x207695043c8>,\n",
       " <pyorient.otypes.OrientCluster at 0x20769504408>,\n",
       " <pyorient.otypes.OrientCluster at 0x207694b6748>,\n",
       " <pyorient.otypes.OrientCluster at 0x2076939f948>,\n",
       " <pyorient.otypes.OrientCluster at 0x207694aaac8>,\n",
       " <pyorient.otypes.OrientCluster at 0x207694aa608>,\n",
       " <pyorient.otypes.OrientCluster at 0x2076947bb48>,\n",
       " <pyorient.otypes.OrientCluster at 0x207694e8548>,\n",
       " <pyorient.otypes.OrientCluster at 0x207694e8988>,\n",
       " <pyorient.otypes.OrientCluster at 0x207694e83c8>,\n",
       " <pyorient.otypes.OrientCluster at 0x207694e8588>,\n",
       " <pyorient.otypes.OrientCluster at 0x207694e87c8>,\n",
       " <pyorient.otypes.OrientCluster at 0x207694e8348>,\n",
       " <pyorient.otypes.OrientCluster at 0x207694e86c8>,\n",
       " <pyorient.otypes.OrientCluster at 0x207694758c8>,\n",
       " <pyorient.otypes.OrientCluster at 0x20769475388>,\n",
       " <pyorient.otypes.OrientCluster at 0x20769475bc8>]"
      ]
     },
     "execution_count": 19,
     "metadata": {},
     "output_type": "execute_result"
    }
   ],
   "source": [
    "client.db_create(\"eCommerce\",pyorient.DB_TYPE_GRAPH,pyorient.STORAGE_TYPE_PLOCAL)\n",
    "client.db_open(\"eCommerce\", \"root\", ROOT_PASSWORD)"
   ]
  },
  {
   "cell_type": "markdown",
   "metadata": {},
   "source": [
    "**Q:** Create the following products: `spaghetti`, `bolognese sauce`, `cheese`, `apple`."
   ]
  },
  {
   "cell_type": "code",
   "execution_count": 20,
   "metadata": {},
   "outputs": [
    {
     "data": {
      "text/plain": [
       "[11]"
      ]
     },
     "execution_count": 20,
     "metadata": {},
     "output_type": "execute_result"
    }
   ],
   "source": [
    "client.command(\"create class Produit extends V\")"
   ]
  },
  {
   "cell_type": "code",
   "execution_count": 21,
   "metadata": {},
   "outputs": [
    {
     "data": {
      "text/plain": [
       "[<pyorient.otypes.OrientRecord at 0x20769558d08>]"
      ]
     },
     "execution_count": 21,
     "metadata": {},
     "output_type": "execute_result"
    }
   ],
   "source": [
    "product1 = {\"name\":\"spaghetti\",}\n",
    "product2 = {\"name\":\"bolognese sauce\"}\n",
    "product3 = {\"name\":\"cheese\"}\n",
    "product4 = {\"name\":\"apple\"}\n",
    "client.command(f\"INSERT INTO Produit CONTENT {json.dumps(product1)}\")\n",
    "client.command(f\"INSERT INTO Produit CONTENT {json.dumps(product2)}\")\n",
    "client.command(f\"INSERT INTO Produit CONTENT {json.dumps(product3)}\")\n",
    "client.command(f\"INSERT INTO Produit CONTENT {json.dumps(product4)}\")"
   ]
  },
  {
   "cell_type": "code",
   "execution_count": 22,
   "metadata": {},
   "outputs": [
    {
     "name": "stdout",
     "output_type": "stream",
     "text": [
      "{{'name': 'E'},'version':0,'rid':'#-2:0'}\n",
      "{{'name': 'V'},'version':0,'rid':'#-2:1'}\n",
      "{{'name': 'OUser'},'version':0,'rid':'#-2:2'}\n",
      "{{'name': 'OIdentity'},'version':0,'rid':'#-2:3'}\n",
      "{{'name': 'OFunction'},'version':0,'rid':'#-2:4'}\n",
      "{{'name': 'ORole'},'version':0,'rid':'#-2:5'}\n",
      "{{'name': 'OTriggered'},'version':0,'rid':'#-2:6'}\n",
      "{{'name': 'OSequence'},'version':0,'rid':'#-2:7'}\n",
      "{{'name': 'ORestricted'},'version':0,'rid':'#-2:8'}\n",
      "{{'name': 'OSchedule'},'version':0,'rid':'#-2:9'}\n",
      "{{'name': 'Produit'},'version':0,'rid':'#-2:10'}\n"
     ]
    }
   ],
   "source": [
    "for name in client.command(\"SELECT name FROM (SELECT expand(classes) FROM metadata:schema)\"):\n",
    "    print(name)"
   ]
  },
  {
   "cell_type": "markdown",
   "metadata": {},
   "source": [
    "**Q:** Create the following people: `peter`, `meredith`."
   ]
  },
  {
   "cell_type": "code",
   "execution_count": 23,
   "metadata": {},
   "outputs": [
    {
     "data": {
      "text/plain": [
       "[<pyorient.otypes.OrientRecord at 0x20769558048>]"
      ]
     },
     "execution_count": 23,
     "metadata": {},
     "output_type": "execute_result"
    }
   ],
   "source": [
    "client.command(\"create class People extends V\")\n",
    "People1 = {\"name\":\"peter\",}\n",
    "People2 = {\"name\":\"meredith\"}\n",
    "client.command(f\"INSERT INTO People CONTENT {json.dumps(People1)}\")\n",
    "client.command(f\"INSERT INTO People CONTENT {json.dumps(People2)}\")"
   ]
  },
  {
   "cell_type": "code",
   "execution_count": 24,
   "metadata": {},
   "outputs": [
    {
     "name": "stdout",
     "output_type": "stream",
     "text": [
      "{'@Produit':{'name': 'spaghetti'},'version':1,'rid':'#25:0'}\n",
      "{'@Produit':{'name': 'bolognese sauce'},'version':1,'rid':'#26:0'}\n",
      "{'@Produit':{'name': 'cheese'},'version':1,'rid':'#27:0'}\n",
      "{'@Produit':{'name': 'apple'},'version':1,'rid':'#28:0'}\n"
     ]
    }
   ],
   "source": [
    "for val in client.command(\"SELECT * FROM Produit\"):\n",
    "    print(val)"
   ]
  },
  {
   "cell_type": "markdown",
   "metadata": {},
   "source": [
    "**Q:** Create the following purchases: \n",
    "- peter > spaghetti + cheese on 20/01/2016 \n",
    "- meredith > cheese + apple + bolognese sauce on 22/01/2016\n",
    "- peter > spaghetti + bolognese sauce on 27/01/2016\n"
   ]
  },
  {
   "cell_type": "code",
   "execution_count": 25,
   "metadata": {},
   "outputs": [],
   "source": [
    "# Fetch vertices using subqueries (assuming 'God' class exists)\n",
    "peter_vertex = client.query(\"SELECT FROM People WHERE name = 'peter'\")[0]\n",
    "meredith_vertex = client.query(\"SELECT FROM People WHERE name = 'meredith'\")[0]\n",
    "spaghetti_vertex = client.query(\"SELECT FROM Produit WHERE name = 'spaghetti'\")[0]\n",
    "cheese_vertex = client.query(\"SELECT FROM Produit WHERE name = 'cheese'\")[0]\n",
    "bolognese_sauce_vertex = client.query(\"SELECT FROM Produit WHERE name = 'bolognese sauce'\")[0]\n",
    "apple_vertex = client.query(\"SELECT FROM Produit WHERE name = 'apple'\")[0]\n",
    "\n",
    "# Define the edges to be created\n",
    "edges_to_create = [\n",
    "    {\"from\": peter_vertex._rid, \"to\": spaghetti_vertex._rid, \"content\": {\"date\": \"20/01/2016\"}},   \n",
    "    {\"from\": peter_vertex._rid, \"to\": cheese_vertex._rid, \"content\": {\"date\": \"20/01/2016\"}},\n",
    "    {\"from\": meredith_vertex._rid, \"to\": cheese_vertex._rid, \"content\": {\"date\": \"22/01/2016\"}},\n",
    "    {\"from\": meredith_vertex._rid, \"to\": apple_vertex._rid, \"content\": {\"date\": \"22/01/2016\"}},\n",
    "    {\"from\": meredith_vertex._rid, \"to\": bolognese_sauce_vertex._rid, \"content\": {\"date\": \"22/01/2016\"}},\n",
    "    {\"from\": peter_vertex._rid, \"to\": spaghetti_vertex._rid, \"content\": {\"date\": \"27/01/2016\"}},\n",
    "    {\"from\": peter_vertex._rid, \"to\": bolognese_sauce_vertex._rid, \"content\": {\"date\": \"27/01/2016\"}}\n",
    "]\n",
    "\n",
    "# Create edges in a loop\n",
    "for edge_data in edges_to_create:\n",
    "    client.command(f\"CREATE EDGE FROM {edge_data['from']} TO {edge_data['to']} CONTENT {edge_data['content']}\")"
   ]
  },
  {
   "cell_type": "markdown",
   "metadata": {},
   "source": [
    "**Q:** Who bought Bolognese sauce?"
   ]
  },
  {
   "cell_type": "code",
   "execution_count": 26,
   "metadata": {},
   "outputs": [
    {
     "name": "stdout",
     "output_type": "stream",
     "text": [
      "meredith\n",
      "peter\n"
     ]
    }
   ],
   "source": [
    "for data in client.command(\"SELECT expand(in()) FROM Produit where name='bolognese sauce'\" ):\n",
    "    print(data.name)"
   ]
  },
  {
   "cell_type": "markdown",
   "metadata": {},
   "source": [
    "**Q:** It is possible to link the `out` and `in` navigation functions. What products are purchased with Bolognese sauce? "
   ]
  },
  {
   "cell_type": "code",
   "execution_count": 27,
   "metadata": {},
   "outputs": [
    {
     "name": "stdout",
     "output_type": "stream",
     "text": [
      "cheese\n",
      "bolognese sauce\n",
      "apple\n",
      "spaghetti\n"
     ]
    }
   ],
   "source": [
    "data=client.command(\"select expand(in().out()) from Produit where name='bolognese sauce'\")\n",
    "datas=set([name.name for name in data])\n",
    "for name in datas:\n",
    "    print(name)"
   ]
  },
  {
   "cell_type": "code",
   "execution_count": 28,
   "metadata": {},
   "outputs": [
    {
     "name": "stdout",
     "output_type": "stream",
     "text": [
      "{{'date': '27/01/2016', 'count': 2},'version':0,'rid':'#-2:2'}\n",
      "{{'date': '22/01/2016', 'count': 3},'version':0,'rid':'#-2:1'}\n"
     ]
    }
   ],
   "source": [
    "for data in client.command(\"select date,in_,in(People),count(*) from E where count(*)>2 group by date,in_ \") :\n",
    "    print(data)"
   ]
  },
  {
   "cell_type": "markdown",
   "metadata": {},
   "source": [
    "## Postquisites"
   ]
  },
  {
   "cell_type": "markdown",
   "metadata": {},
   "source": [
    "Since we create databases in memory, they get destroyed on server shutdown."
   ]
  }
 ],
 "metadata": {
  "kernelspec": {
   "display_name": "Python 3 (ipykernel)",
   "language": "python",
   "name": "python3"
  },
  "language_info": {
   "codemirror_mode": {
    "name": "ipython",
    "version": 3
   },
   "file_extension": ".py",
   "mimetype": "text/x-python",
   "name": "python",
   "nbconvert_exporter": "python",
   "pygments_lexer": "ipython3",
   "version": "3.7.12"
  }
 },
 "nbformat": 4,
 "nbformat_minor": 4
}
